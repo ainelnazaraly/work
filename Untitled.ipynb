{
 "cells": [
  {
   "cell_type": "markdown",
   "id": "dd2f3d04",
   "metadata": {},
   "source": [
    "syntax ex1"
   ]
  },
  {
   "cell_type": "code",
   "execution_count": 4,
   "id": "53e0e2ef",
   "metadata": {},
   "outputs": [
    {
     "name": "stdout",
     "output_type": "stream",
     "text": [
      "Hello, World!\n"
     ]
    }
   ],
   "source": [
    "print(\"Hello, World!\")"
   ]
  },
  {
   "cell_type": "markdown",
   "id": "8e0ad9cf",
   "metadata": {},
   "source": [
    "syntax ex2"
   ]
  },
  {
   "cell_type": "code",
   "execution_count": 5,
   "id": "4dc71d8c",
   "metadata": {},
   "outputs": [
    {
     "name": "stdout",
     "output_type": "stream",
     "text": [
      "Five is greater than two!\n"
     ]
    }
   ],
   "source": [
    "if 5>2:\n",
    "    print(\"Five is greater than two!\")"
   ]
  },
  {
   "cell_type": "markdown",
   "id": "76102004",
   "metadata": {},
   "source": [
    "comments ex1"
   ]
  },
  {
   "cell_type": "code",
   "execution_count": 6,
   "id": "a194b1af",
   "metadata": {},
   "outputs": [],
   "source": [
    "\n",
    "#this is comment"
   ]
  },
  {
   "cell_type": "markdown",
   "id": "a1a171a3",
   "metadata": {},
   "source": [
    "comments ex2"
   ]
  },
  {
   "cell_type": "code",
   "execution_count": 7,
   "id": "cef15e6c",
   "metadata": {},
   "outputs": [
    {
     "data": {
      "text/plain": [
       "'\\nThis is a comment\\nwritten in \\nmore than just one line\\n'"
      ]
     },
     "execution_count": 7,
     "metadata": {},
     "output_type": "execute_result"
    }
   ],
   "source": [
    "\"\"\"\n",
    "This is a comment\n",
    "written in \n",
    "more than just one line\n",
    "\"\"\""
   ]
  },
  {
   "cell_type": "markdown",
   "id": "b110ed74",
   "metadata": {},
   "source": [
    "Variables ex1"
   ]
  },
  {
   "cell_type": "code",
   "execution_count": 8,
   "id": "65c3977e",
   "metadata": {},
   "outputs": [],
   "source": [
    "carname=\"volvo\""
   ]
  },
  {
   "cell_type": "markdown",
   "id": "5c44bdd8",
   "metadata": {},
   "source": [
    "variables ex2"
   ]
  },
  {
   "cell_type": "code",
   "execution_count": null,
   "id": "61151f5b",
   "metadata": {},
   "outputs": [],
   "source": [
    "x=50"
   ]
  },
  {
   "cell_type": "markdown",
   "id": "7a640cba",
   "metadata": {},
   "source": [
    "variables ex3\n"
   ]
  },
  {
   "cell_type": "code",
   "execution_count": 9,
   "id": "c5ac65e6",
   "metadata": {},
   "outputs": [
    {
     "name": "stdout",
     "output_type": "stream",
     "text": [
      "11\n"
     ]
    }
   ],
   "source": [
    "x=5\n",
    "y=6\n",
    "print(x+y)"
   ]
  },
  {
   "cell_type": "markdown",
   "id": "80fe4c6d",
   "metadata": {},
   "source": [
    "variables ex4"
   ]
  },
  {
   "cell_type": "code",
   "execution_count": 10,
   "id": "24532822",
   "metadata": {},
   "outputs": [
    {
     "name": "stdout",
     "output_type": "stream",
     "text": [
      "11\n"
     ]
    }
   ],
   "source": [
    "x=5\n",
    "y=6\n",
    "z=x+y\n",
    "print(z)"
   ]
  },
  {
   "cell_type": "markdown",
   "id": "a1e8fe1b",
   "metadata": {},
   "source": [
    "variables ex5"
   ]
  },
  {
   "cell_type": "code",
   "execution_count": null,
   "id": "597fb170",
   "metadata": {},
   "outputs": [],
   "source": [
    "myfirst_name=\"John\""
   ]
  },
  {
   "cell_type": "markdown",
   "id": "08b889fa",
   "metadata": {},
   "source": [
    "variables ex6"
   ]
  },
  {
   "cell_type": "code",
   "execution_count": null,
   "id": "6b708687",
   "metadata": {},
   "outputs": [],
   "source": [
    "x=y=z=\"Orange\""
   ]
  },
  {
   "cell_type": "markdown",
   "id": "19a73556",
   "metadata": {},
   "source": [
    "variables ex7"
   ]
  },
  {
   "cell_type": "code",
   "execution_count": 11,
   "id": "ed11478b",
   "metadata": {},
   "outputs": [],
   "source": [
    "def myfunc():\n",
    "    global x\n",
    "    x=\"fantastic\""
   ]
  },
  {
   "cell_type": "markdown",
   "id": "4d35c0bb",
   "metadata": {},
   "source": [
    "Data type ex1"
   ]
  },
  {
   "cell_type": "code",
   "execution_count": 12,
   "id": "4e7439bf",
   "metadata": {},
   "outputs": [
    {
     "name": "stdout",
     "output_type": "stream",
     "text": [
      "<class 'int'>\n"
     ]
    }
   ],
   "source": [
    "x = 5\n",
    "print(type(x))\n"
   ]
  },
  {
   "cell_type": "markdown",
   "id": "4d5f34eb",
   "metadata": {},
   "source": [
    "Data type ex2"
   ]
  },
  {
   "cell_type": "code",
   "execution_count": null,
   "id": "5c48105b",
   "metadata": {},
   "outputs": [],
   "source": [
    "x = \"Hello World\"\n",
    "print(type(x))"
   ]
  },
  {
   "cell_type": "markdown",
   "id": "432a19db",
   "metadata": {},
   "source": [
    "Data type ex3"
   ]
  },
  {
   "cell_type": "code",
   "execution_count": null,
   "id": "4fb6158d",
   "metadata": {},
   "outputs": [],
   "source": [
    "x = 20.5\n",
    "print(type(x))"
   ]
  },
  {
   "cell_type": "markdown",
   "id": "7e8b41b6",
   "metadata": {},
   "source": [
    "Data type ex4"
   ]
  },
  {
   "cell_type": "code",
   "execution_count": null,
   "id": "6ccc6bca",
   "metadata": {},
   "outputs": [],
   "source": [
    "x = [\"apple\", \"banana\", \"cherry\"]\n",
    "print(type(x))\n"
   ]
  },
  {
   "cell_type": "markdown",
   "id": "311c08c3",
   "metadata": {},
   "source": [
    "Data type ex5"
   ]
  },
  {
   "cell_type": "code",
   "execution_count": null,
   "id": "b2c14fe0",
   "metadata": {},
   "outputs": [],
   "source": [
    "x = (\"apple\", \"banana\", \"cherry\")\n",
    "print(type(x))\n"
   ]
  },
  {
   "cell_type": "markdown",
   "id": "6cf0c4c6",
   "metadata": {},
   "source": [
    "Data type ex6"
   ]
  },
  {
   "cell_type": "code",
   "execution_count": null,
   "id": "f517fc1c",
   "metadata": {},
   "outputs": [],
   "source": [
    "x = {\"name\" : \"John\", \"age\" : 36}\n",
    "print(type(x))"
   ]
  },
  {
   "cell_type": "markdown",
   "id": "3daef4e6",
   "metadata": {},
   "source": [
    "Data type ex7"
   ]
  },
  {
   "cell_type": "code",
   "execution_count": 13,
   "id": "26b66c0a",
   "metadata": {},
   "outputs": [
    {
     "name": "stdout",
     "output_type": "stream",
     "text": [
      "<class 'bool'>\n"
     ]
    }
   ],
   "source": [
    "x = True\n",
    "print(type(x))"
   ]
  },
  {
   "cell_type": "markdown",
   "id": "4f71d16f",
   "metadata": {},
   "source": [
    "Numbers ex1"
   ]
  },
  {
   "cell_type": "code",
   "execution_count": null,
   "id": "07997f63",
   "metadata": {},
   "outputs": [],
   "source": [
    "x=5\n",
    "x=float(x)"
   ]
  },
  {
   "cell_type": "markdown",
   "id": "850ee9ce",
   "metadata": {},
   "source": [
    "Numbers ex2"
   ]
  },
  {
   "cell_type": "code",
   "execution_count": null,
   "id": "188d2634",
   "metadata": {},
   "outputs": [],
   "source": [
    "x=5.5\n",
    "x=int(x)"
   ]
  },
  {
   "cell_type": "markdown",
   "id": "a8021f10",
   "metadata": {},
   "source": [
    "Numbers ex3"
   ]
  },
  {
   "cell_type": "code",
   "execution_count": 16,
   "id": "ecc50005",
   "metadata": {},
   "outputs": [],
   "source": [
    "x=5\n",
    "x=complex(x)"
   ]
  },
  {
   "cell_type": "markdown",
   "id": "b5900311",
   "metadata": {},
   "source": [
    "str ex1"
   ]
  },
  {
   "cell_type": "code",
   "execution_count": null,
   "id": "0b4e2efa",
   "metadata": {},
   "outputs": [],
   "source": [
    "x = \"Hello World\"\n",
    "print(len(x))"
   ]
  },
  {
   "cell_type": "markdown",
   "id": "768957fe",
   "metadata": {},
   "source": [
    "str ex2"
   ]
  },
  {
   "cell_type": "code",
   "execution_count": null,
   "id": "73219805",
   "metadata": {},
   "outputs": [],
   "source": [
    "txt = \"Hello World\"\n",
    "x=txt[0]"
   ]
  },
  {
   "cell_type": "markdown",
   "id": "a4386699",
   "metadata": {},
   "source": [
    "str ex3"
   ]
  },
  {
   "cell_type": "code",
   "execution_count": null,
   "id": "e8a8304b",
   "metadata": {},
   "outputs": [],
   "source": [
    "txt = \"Hello World\"\n",
    "x=[2:5]"
   ]
  },
  {
   "cell_type": "raw",
   "id": "2e9b1797",
   "metadata": {},
   "source": [
    "str ex4"
   ]
  },
  {
   "cell_type": "code",
   "execution_count": 18,
   "id": "fc02e903",
   "metadata": {},
   "outputs": [],
   "source": [
    "txt = \"Hello World\"\n",
    "x=txt.strip()"
   ]
  },
  {
   "cell_type": "markdown",
   "id": "7acd03e6",
   "metadata": {},
   "source": [
    "str ex5"
   ]
  },
  {
   "cell_type": "code",
   "execution_count": 20,
   "id": "86dfd1f8",
   "metadata": {},
   "outputs": [
    {
     "name": "stdout",
     "output_type": "stream",
     "text": [
      "HELLO WORLD\n"
     ]
    }
   ],
   "source": [
    "txt = \"Hello World\"\n",
    "x=txt.upper()"
   ]
  },
  {
   "cell_type": "markdown",
   "id": "8783efdd",
   "metadata": {},
   "source": [
    "str ex6"
   ]
  },
  {
   "cell_type": "code",
   "execution_count": null,
   "id": "07bd92f0",
   "metadata": {},
   "outputs": [],
   "source": [
    "txt = \"Hello World\"\n",
    "x=txt.lower()"
   ]
  },
  {
   "cell_type": "markdown",
   "id": "de838528",
   "metadata": {},
   "source": [
    "str ex7"
   ]
  },
  {
   "cell_type": "code",
   "execution_count": 22,
   "id": "ecd06f12",
   "metadata": {},
   "outputs": [],
   "source": [
    "txt = \"Hello World\"\n",
    "txt = txt.replace('H', 'J')\n"
   ]
  },
  {
   "cell_type": "markdown",
   "id": "92791c36",
   "metadata": {},
   "source": [
    "str ex8"
   ]
  },
  {
   "cell_type": "code",
   "execution_count": 23,
   "id": "12de5511",
   "metadata": {},
   "outputs": [
    {
     "name": "stdout",
     "output_type": "stream",
     "text": [
      "My name is John, and I am 36\n"
     ]
    }
   ],
   "source": [
    "age = 36\n",
    "txt = \"My name is John, and I am {}\"\n",
    "print(txt.format(age))"
   ]
  },
  {
   "cell_type": "code",
   "execution_count": null,
   "id": "bc9607cd",
   "metadata": {},
   "outputs": [],
   "source": []
  }
 ],
 "metadata": {
  "kernelspec": {
   "display_name": "Python 3 (ipykernel)",
   "language": "python",
   "name": "python3"
  },
  "language_info": {
   "codemirror_mode": {
    "name": "ipython",
    "version": 3
   },
   "file_extension": ".py",
   "mimetype": "text/x-python",
   "name": "python",
   "nbconvert_exporter": "python",
   "pygments_lexer": "ipython3",
   "version": "3.9.13"
  }
 },
 "nbformat": 4,
 "nbformat_minor": 5
}
